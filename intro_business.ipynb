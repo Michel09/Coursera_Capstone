{
 "cells": [
  {
   "cell_type": "markdown",
   "metadata": {},
   "source": [
    "The goal of this project is to predict the severity of an accident using machine learning models to better understand the data. We will try to see if there's a correlation between the severity of the accidents and the conditions; weather, lighting, winter/summer, speed.\n",
    "\n",
    "We really want to find out which factors are most impactful on the severity of the accident, create ML algorithms and train them to predict the severity of an accident.\n",
    "\n",
    "We will be using the Data-Collisions.csv file provided for us in the course. The severity "
   ]
  }
 ],
 "metadata": {
  "kernelspec": {
   "display_name": "Python 3",
   "language": "python",
   "name": "python3"
  },
  "language_info": {
   "codemirror_mode": {
    "name": "ipython",
    "version": 3
   },
   "file_extension": ".py",
   "mimetype": "text/x-python",
   "name": "python",
   "nbconvert_exporter": "python",
   "pygments_lexer": "ipython3",
   "version": "3.7.6"
  }
 },
 "nbformat": 4,
 "nbformat_minor": 4
}
